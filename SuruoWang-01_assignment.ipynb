{
 "cells": [
  {
   "cell_type": "code",
   "execution_count": 1,
   "metadata": {},
   "outputs": [],
   "source": [
    "import math\n",
    "import unittest"
   ]
  },
  {
   "cell_type": "code",
   "execution_count": 8,
   "metadata": {},
   "outputs": [
    {
     "data": {
      "text/plain": [
       "5"
      ]
     },
     "execution_count": 8,
     "metadata": {},
     "output_type": "execute_result"
    }
   ],
   "source": [
    "def exercise01():\n",
    "    x = 5\n",
    "    return x\n",
    "exercise01()"
   ]
  },
  {
   "cell_type": "code",
   "execution_count": 16,
   "metadata": {},
   "outputs": [
    {
     "data": {
      "text/plain": [
       "'suruo'"
      ]
     },
     "execution_count": 16,
     "metadata": {},
     "output_type": "execute_result"
    }
   ],
   "source": [
    "def exercise02():\n",
    "    name = \"suruo\"\n",
    "    return name\n",
    "exercise02()"
   ]
  },
  {
   "cell_type": "code",
   "execution_count": 19,
   "metadata": {},
   "outputs": [
    {
     "data": {
      "text/plain": [
       "'Nothing is possible.'"
      ]
     },
     "execution_count": 19,
     "metadata": {},
     "output_type": "execute_result"
    }
   ],
   "source": [
    "def exercise03():\n",
    "    sentence = \"Nothing is possible.\"\n",
    "    return sentence\n",
    "exercise03()"
   ]
  },
  {
   "cell_type": "code",
   "execution_count": 22,
   "metadata": {},
   "outputs": [
    {
     "data": {
      "text/plain": [
       "('Suruo', 'Wang')"
      ]
     },
     "execution_count": 22,
     "metadata": {},
     "output_type": "execute_result"
    }
   ],
   "source": [
    "def exercise04():\n",
    "    first_name = \"Suruo\"  \n",
    "    last_name = \"Wang\"\n",
    "    return first_name,last_name\n",
    "exercise04()"
   ]
  },
  {
   "cell_type": "code",
   "execution_count": 24,
   "metadata": {},
   "outputs": [
    {
     "data": {
      "text/plain": [
       "('Suruo', 'Wang', str)"
      ]
     },
     "execution_count": 24,
     "metadata": {},
     "output_type": "execute_result"
    }
   ],
   "source": [
    "def exercise05():\n",
    "    first_name = \"Suruo\"  \n",
    "    last_name = \"Wang\"\n",
    "    name_type = type(first_name)\n",
    "    return first_name,last_name,name_type\n",
    "exercise05()"
   ]
  },
  {
   "cell_type": "code",
   "execution_count": 25,
   "metadata": {},
   "outputs": [
    {
     "data": {
      "text/plain": [
       "(20, 15, 300)"
      ]
     },
     "execution_count": 25,
     "metadata": {},
     "output_type": "execute_result"
    }
   ],
   "source": [
    "def exercise06():\n",
    "    hours_worked = 20\n",
    "    wage_per_hour = 15\n",
    "    total_pay = hours_worked * wage_per_hour\n",
    "    return hours_worked,wage_per_hour,total_pay\n",
    "exercise06()"
   ]
  },
  {
   "cell_type": "code",
   "execution_count": 26,
   "metadata": {},
   "outputs": [
    {
     "data": {
      "text/plain": [
       "(int, 34)"
      ]
     },
     "execution_count": 26,
     "metadata": {},
     "output_type": "execute_result"
    }
   ],
   "source": [
    "def exercise07():\n",
    "    wage = 17\n",
    "    second = 2 * wage\n",
    "    return type(wage),second\n",
    "exercise07()"
   ]
  },
  {
   "cell_type": "code",
   "execution_count": 27,
   "metadata": {},
   "outputs": [
    {
     "data": {
      "text/plain": [
       "(5, 'hello', 'hellohellohellohellohello')"
      ]
     },
     "execution_count": 27,
     "metadata": {},
     "output_type": "execute_result"
    }
   ],
   "source": [
    "def exercise08():\n",
    "    quantity= 5\n",
    "    hello = \"hello\"\n",
    "    hello_repoeated = quantity * hello\n",
    "    return quantity,hello,hello_repoeated\n",
    "exercise08()"
   ]
  },
  {
   "cell_type": "code",
   "execution_count": 28,
   "metadata": {},
   "outputs": [
    {
     "data": {
      "text/plain": [
       "(10, 5, 50)"
      ]
     },
     "execution_count": 28,
     "metadata": {},
     "output_type": "execute_result"
    }
   ],
   "source": [
    "def exercise09():\n",
    "    qty = 10\n",
    "    price = 5\n",
    "    total_cost = qty * price\n",
    "    return qty,price,total_cost\n",
    "exercise09()"
   ]
  },
  {
   "cell_type": "code",
   "execution_count": 29,
   "metadata": {},
   "outputs": [
    {
     "data": {
      "text/plain": [
       "(1, 2, 3, 4, 5, 120)"
      ]
     },
     "execution_count": 29,
     "metadata": {},
     "output_type": "execute_result"
    }
   ],
   "source": [
    "def exercise10():\n",
    "    factor1 = 1\n",
    "    factor2 = 2\n",
    "    factor3 = 3\n",
    "    factor4 = 4\n",
    "    factor5 = 5\n",
    "    product = factor1 * factor2 * factor3 * factor4 * factor5\n",
    "    return factor1,factor2,factor3,factor4,factor5,product\n",
    "exercise10()"
   ]
  },
  {
   "cell_type": "code",
   "execution_count": 31,
   "metadata": {},
   "outputs": [
    {
     "data": {
      "text/plain": [
       "3.1415926536"
      ]
     },
     "execution_count": 31,
     "metadata": {},
     "output_type": "execute_result"
    }
   ],
   "source": [
    "def exercise11():\n",
    "    pi = round(math.pi,10)\n",
    "    return pi\n",
    "exercise11()"
   ]
  },
  {
   "cell_type": "code",
   "execution_count": 40,
   "metadata": {},
   "outputs": [
    {
     "data": {
      "text/plain": [
       "(10, 10000000)"
      ]
     },
     "execution_count": 40,
     "metadata": {},
     "output_type": "execute_result"
    }
   ],
   "source": [
    "def exercise12():\n",
    "    x = 10\n",
    "    y = x ** 7\n",
    "    return x,y\n",
    "exercise12()"
   ]
  },
  {
   "cell_type": "code",
   "execution_count": 34,
   "metadata": {},
   "outputs": [
    {
     "data": {
      "text/plain": [
       "(7, 3.14159, 1436.7538266666666)"
      ]
     },
     "execution_count": 34,
     "metadata": {},
     "output_type": "execute_result"
    }
   ],
   "source": [
    "def exercise13():\n",
    "    r = 7\n",
    "    pi = 3.14159\n",
    "    volume_sphere = 4/3*pi*r**3\n",
    "    return r,pi,volume_sphere\n",
    "exercise13()"
   ]
  },
  {
   "cell_type": "code",
   "execution_count": 36,
   "metadata": {},
   "outputs": [
    {
     "data": {
      "text/plain": [
       "(50, 10.2, 509.99999999999994, float)"
      ]
     },
     "execution_count": 36,
     "metadata": {},
     "output_type": "execute_result"
    }
   ],
   "source": [
    "def exercise14():\n",
    "    length = 50\n",
    "    height = 10.2\n",
    "    area = length * height \n",
    "    area_type = type(area)\n",
    "    return length,height,area,area_type\n",
    "exercise14()"
   ]
  },
  {
   "cell_type": "code",
   "execution_count": 37,
   "metadata": {},
   "outputs": [
    {
     "data": {
      "text/plain": [
       "(240, 3, 80)"
      ]
     },
     "execution_count": 37,
     "metadata": {},
     "output_type": "execute_result"
    }
   ],
   "source": [
    "def exercise15():\n",
    "    speed_mph = 80\n",
    "    duration = 3\n",
    "    distance = speed_mph * duration\n",
    "    return distance,duration,speed_mph\n",
    "exercise15()"
   ]
  },
  {
   "cell_type": "code",
   "execution_count": 39,
   "metadata": {},
   "outputs": [
    {
     "data": {
      "text/plain": [
       "(3, 4, 5.0)"
      ]
     },
     "execution_count": 39,
     "metadata": {},
     "output_type": "execute_result"
    }
   ],
   "source": [
    "def exercise16():\n",
    "    a = 3\n",
    "    b = 4\n",
    "    c = math.sqrt(a**2+b**2)\n",
    "    return a,b,c\n",
    "exercise16()"
   ]
  },
  {
   "cell_type": "code",
   "execution_count": null,
   "metadata": {},
   "outputs": [],
   "source": []
  }
 ],
 "metadata": {
  "kernelspec": {
   "display_name": "Python 3",
   "language": "python",
   "name": "python3"
  },
  "language_info": {
   "codemirror_mode": {
    "name": "ipython",
    "version": 3
   },
   "file_extension": ".py",
   "mimetype": "text/x-python",
   "name": "python",
   "nbconvert_exporter": "python",
   "pygments_lexer": "ipython3",
   "version": "3.6.4"
  }
 },
 "nbformat": 4,
 "nbformat_minor": 2
}
